{
 "cells": [
  {
   "cell_type": "code",
   "execution_count": 1,
   "metadata": {},
   "outputs": [],
   "source": [
    "# General\n",
    "import pandas as pd\n",
    "import numpy as np\n",
    "from dfply import *\n",
    "\n",
    "# Formatting Text\n",
    "import re\n",
    "import string\n",
    "import emoji\n",
    "\n",
    "\n",
    "# Text Analysis\n",
    "import nltk\n",
    "from nltk.tokenize import sent_tokenize\n",
    "from nltk.tokenize import word_tokenize\n",
    "from nltk.stem import LancasterStemmer\n",
    "from nltk.probability import FreqDist\n",
    "from nltk.corpus import stopwords\n",
    "from nltk.cluster.util import cosine_distance\n",
    "import spacy\n",
    "import en_core_web_lg\n",
    "from spacy import displacy\n",
    "import textacy\n",
    "\n",
    "# Plotting\n",
    "from datetime import date\n",
    "import seaborn as sns\n",
    "sns.set(style=\"ticks\", color_codes=True)\n",
    "import matplotlib.pyplot as plt\n",
    "\n",
    "from sklearn import *\n",
    "from sklearn.metrics.pairwise import cosine_similarity\n",
    "from sklearn.feature_extraction.text import TfidfVectorizer\n",
    "from sklearn.model_selection import train_test_split\n",
    "from sklearn.preprocessing import LabelEncoder\n",
    "from sklearn.feature_extraction.text import TfidfVectorizer\n",
    "from sklearn import model_selection, naive_bayes, svm\n",
    "from sklearn.metrics import accuracy_score\n",
    "\n",
    "\n",
    "import random"
   ]
  },
  {
   "cell_type": "markdown",
   "metadata": {},
   "source": [
    "Lets look through the data"
   ]
  },
  {
   "cell_type": "code",
   "execution_count": 2,
   "metadata": {},
   "outputs": [],
   "source": [
    "data = pd.read_csv('train.csv')"
   ]
  },
  {
   "cell_type": "code",
   "execution_count": 3,
   "metadata": {},
   "outputs": [
    {
     "name": "stdout",
     "output_type": "stream",
     "text": [
      "<class 'pandas.core.frame.DataFrame'>\n",
      "RangeIndex: 7613 entries, 0 to 7612\n",
      "Data columns (total 5 columns):\n",
      " #   Column    Non-Null Count  Dtype \n",
      "---  ------    --------------  ----- \n",
      " 0   id        7613 non-null   int64 \n",
      " 1   keyword   7552 non-null   object\n",
      " 2   location  5080 non-null   object\n",
      " 3   text      7613 non-null   object\n",
      " 4   target    7613 non-null   int64 \n",
      "dtypes: int64(2), object(3)\n",
      "memory usage: 297.5+ KB\n"
     ]
    },
    {
     "data": {
      "text/plain": [
       "(None,\n",
       " <bound method NDFrame.head of          id keyword location  \\\n",
       " 0         1     NaN      NaN   \n",
       " 1         4     NaN      NaN   \n",
       " 2         5     NaN      NaN   \n",
       " 3         6     NaN      NaN   \n",
       " 4         7     NaN      NaN   \n",
       " ...     ...     ...      ...   \n",
       " 7608  10869     NaN      NaN   \n",
       " 7609  10870     NaN      NaN   \n",
       " 7610  10871     NaN      NaN   \n",
       " 7611  10872     NaN      NaN   \n",
       " 7612  10873     NaN      NaN   \n",
       " \n",
       "                                                    text  target  \n",
       " 0     Our Deeds are the Reason of this #earthquake M...       1  \n",
       " 1                Forest fire near La Ronge Sask. Canada       1  \n",
       " 2     All residents asked to 'shelter in place' are ...       1  \n",
       " 3     13,000 people receive #wildfires evacuation or...       1  \n",
       " 4     Just got sent this photo from Ruby #Alaska as ...       1  \n",
       " ...                                                 ...     ...  \n",
       " 7608  Two giant cranes holding a bridge collapse int...       1  \n",
       " 7609  @aria_ahrary @TheTawniest The out of control w...       1  \n",
       " 7610  M1.94 [01:04 UTC]?5km S of Volcano Hawaii. htt...       1  \n",
       " 7611  Police investigating after an e-bike collided ...       1  \n",
       " 7612  The Latest: More Homes Razed by Northern Calif...       1  \n",
       " \n",
       " [7613 rows x 5 columns]>)"
      ]
     },
     "execution_count": 3,
     "metadata": {},
     "output_type": "execute_result"
    }
   ],
   "source": [
    "data.info(), data.head"
   ]
  },
  {
   "cell_type": "code",
   "execution_count": 4,
   "metadata": {},
   "outputs": [],
   "source": [
    "def count_special(text):\n",
    "    return len(re.findall(r'[^\\w\\s,]', text.lower()))\n",
    "\n",
    "def hashtags(text):\n",
    "    return len(re.findall(r'#([\\w\\.-]+)', text.lower()))\n",
    "\n",
    "stop_words = set(stopwords.words('english'))\n",
    "\n",
    "def clean_text(text):\n",
    "    text = re.sub(r'http\\S+', '', text, flags=re.MULTILINE)\n",
    "    text = re.findall('\\w+', text.lower())\n",
    "    text = \" \".join([txt for txt in text if txt not in stop_words])\n",
    "    text = re.sub(r'(\\d+)\\s+(?=\\d)', r'\\1', text)\n",
    "    return text\n",
    "\n",
    "def has_link(text):\n",
    "    text = re.findall(r'http\\S+', text, flags=re.MULTILINE)\n",
    "    return len(text)\n",
    "\n",
    "def has_at(text):\n",
    "    text = re.findall(r'@\\S+', text, flags=re.MULTILINE)\n",
    "    return len(text)"
   ]
  },
  {
   "cell_type": "code",
   "execution_count": 5,
   "metadata": {},
   "outputs": [],
   "source": [
    "def transform_data(data_frame):\n",
    "    data_frame['text_len'] = data_frame['text'].apply(len)\n",
    "    data_frame['special'] = data_frame['text'].apply(lambda x: count_special(x))\n",
    "    data_frame['clean_text'] = data_frame['text'].apply(lambda x: clean_text(x))\n",
    "    data_frame['clean_text_len'] = data_frame['clean_text'].apply(len)\n",
    "    data_frame['hashtags'] = data_frame['text'].apply(lambda x: hashtags(x))\n",
    "    data_frame['links'] = data_frame['text'].apply(lambda x: has_link(x))\n",
    "    data_frame['@s'] = data_frame['text'].apply(lambda x: has_at(x))\n",
    "    return data_frame\n",
    "\n",
    "data = transform_data(data)"
   ]
  },
  {
   "cell_type": "code",
   "execution_count": 6,
   "metadata": {},
   "outputs": [
    {
     "data": {
      "text/plain": [
       "<matplotlib.legend.Legend at 0x234f6ec4a08>"
      ]
     },
     "execution_count": 6,
     "metadata": {},
     "output_type": "execute_result"
    },
    {
     "data": {
      "image/png": "[encoded data removed]",
      "text/plain": [
       "<Figure size 432x288 with 3 Axes>"
      ]
     },
     "metadata": {},
     "output_type": "display_data"
    }
   ],
   "source": [
    "plt.figure(1)\n",
    "\n",
    "plt.subplot(211)\n",
    "plt.hist(data['links'][data['target']==0], label='0')\n",
    "plt.hist(data['links'][data['target']==1], label='1', alpha = .5)\n",
    "plt.legend(prop={'size': 12})\n",
    "\n",
    "plt.subplot(223)\n",
    "plt.hist(data['hashtags'][data['target']==0], label='0')\n",
    "plt.hist(data['hashtags'][data['target']==1], label='1', alpha = .5)\n",
    "plt.legend(prop={'size': 12})\n",
    "\n",
    "plt.subplot(224)\n",
    "sns.distplot(data['@s'][data['target']==0],  kde=False, label='0')\n",
    "sns.distplot(data['@s'][data['target']==1],  kde=False, label='1')\n",
    "plt.legend(prop={'size': 12})\n"
   ]
  },
  {
   "cell_type": "code",
   "execution_count": 7,
   "metadata": {},
   "outputs": [
    {
     "data": {
      "text/plain": [
       "<matplotlib.legend.Legend at 0x234f74da588>"
      ]
     },
     "execution_count": 7,
     "metadata": {},
     "output_type": "execute_result"
    },
    {
     "data": {
      "image/png": "[encoded data removed]",
      "text/plain": [
       "<Figure size 432x288 with 4 Axes>"
      ]
     },
     "metadata": {},
     "output_type": "display_data"
    }
   ],
   "source": [
    "colors = {1:'red', 0:'blue'}\n",
    "\n",
    "plt.figure(1)\n",
    "\n",
    "plt.subplot(221)\n",
    "plt.hist(data['text_len'][data['target']==0], label='0')\n",
    "plt.hist(data['text_len'][data['target']==1], label='1', alpha = .5)\n",
    "plt.legend(prop={'size': 12})\n",
    "\n",
    "plt.subplot(224)\n",
    "sns.distplot(data['hashtags'][data['target']==0],  kde=False, label='0')\n",
    "sns.distplot(data['hashtags'][data['target']==1],  kde=False, label='1')\n",
    "plt.legend(prop={'size': 12})\n",
    "\n",
    "plt.subplot(223)\n",
    "sns.distplot(data['special'][data['target']==0],  kde=False, label='0')\n",
    "sns.distplot(data['special'][data['target']==1],  kde=False, label='1')\n",
    "plt.legend(prop={'size': 12})\n",
    "\n",
    "plt.subplot(222)\n",
    "plt.hist(data['clean_text_len'][data['target']==0], label='0')\n",
    "plt.hist(data['clean_text_len'][data['target']==1], label='1', alpha = .5)\n",
    "plt.legend(prop={'size': 12})"
   ]
  },
  {
   "cell_type": "code",
   "execution_count": null,
   "metadata": {},
   "outputs": [],
   "source": []
  },
  {
   "cell_type": "code",
   "execution_count": 8,
   "metadata": {},
   "outputs": [
    {
     "data": {
      "text/plain": [
       "Index(['id', 'keyword', 'location', 'text', 'target', 'text_len', 'special',\n",
       "       'clean_text', 'clean_text_len', 'hashtags', 'links', '@s'],\n",
       "      dtype='object')"
      ]
     },
     "execution_count": 8,
     "metadata": {},
     "output_type": "execute_result"
    }
   ],
   "source": [
    "data.columns"
   ]
  },
  {
   "cell_type": "code",
   "execution_count": 9,
   "metadata": {},
   "outputs": [
    {
     "name": "stdout",
     "output_type": "stream",
     "text": [
      "Our Deeds are the Reason of this #earthquake May ALLAH Forgive us all\n",
      "Damn bloody hot\n",
      "??One night and we're gonna come and crash the party\n",
      "Weren't invited but we're feelin' soÛ_ https://t.co/9hKXxBB82O\n",
      "Ignition Knock (Detonation) Sensor-Senso BECK/ARNLEY 158-1017 http://t.co/ryoByQJFCE http://t.co/LW9O2kDk18\n",
      "11-Year-Old Boy Charged With Manslaughter of Toddler: Report: An 11-year-old boy has been charged with manslaughter over the fatal sh...\n",
      "@ChubbySquirrel_ @Hurricane_Surge this here is very true &gt;:33333\n",
      "You made my mood go from shitty af to panicking af istg\n",
      "How to restore vinyl siding and make it look new again http://t.co/MHL7Pfr7kb http://t.co/lou8lbLA1f\n",
      "Abe's government made clear that grenades were not 'weapon.'\n",
      "\n",
      "deeds reason earthquake may allah forgive us\n",
      "damn bloody hot\n",
      "one night gonna come crash party invited feelin û_\n",
      "ignition knock detonation sensor senso beck arnley 1581017\n",
      "11 year old boy charged manslaughter toddler report 11 year old boy charged manslaughter fatal sh\n",
      "chubbysquirrel_ hurricane_surge true gt 33333\n",
      "made mood go shitty af panicking af istg\n",
      "restore vinyl siding make look new\n",
      "abe government made clear grenades weapon\n"
     ]
    }
   ],
   "source": [
    "for text in data['text'][::900]:\n",
    "    print(text)\n",
    "print()\n",
    "for text in data['clean_text'][::900]:\n",
    "    print(text)"
   ]
  },
  {
   "cell_type": "code",
   "execution_count": null,
   "metadata": {},
   "outputs": [],
   "source": []
  },
  {
   "cell_type": "raw",
   "metadata": {},
   "source": [
    "\n",
    "                                                                                                                                                \n",
    "\n",
    "                                                                                                                                                \n",
    "                                                                                                                                                \n",
    "                                                                                                                                                \n",
    "                                                                                                                                                \n",
    "                                                                                                                                                \n",
    "                                                                                                                                                \n",
    "                                                                                                                                                \n",
    "                                                                                                                                                \n",
    "                                                                                                                                                \n",
    "                                                                                                                                                \n",
    "                                                                                                                                                \n",
    "                                                                                                                                                \n",
    "                                                                                                                                                \n",
    "                                                                                                                                                \n",
    "                                                                                                                                                \n",
    "                                                                                                                                                \n",
    "                                                                                                                                                \n",
    "                                                                                                                                                \n",
    "                                                                                                                                                \n",
    "                                                                                                                                                \n",
    "                                                                                                                                                \n",
    "                                                                                                                                                \n",
    "                                                                                                                                                \n",
    "                                                                                                                                                \n",
    "                                                                                                                                                \n",
    "                                                                                                                                                \n",
    "                                                                                                                                                \n",
    "                                                                                                                                                \n",
    "\n"
   ]
  },
  {
   "cell_type": "code",
   "execution_count": 10,
   "metadata": {},
   "outputs": [
    {
     "name": "stdout",
     "output_type": "stream",
     "text": [
      "\n",
      "\n",
      "Words : \n",
      "                   term       rank\n",
      "122  burning buildings  56.615041\n",
      "675    suicide bombing  30.872435\n",
      "453        mass murder  30.446170\n",
      "794      youtube video  30.267487\n",
      "454      mass murderer  29.944902\n",
      "421      liked youtube  29.376830\n",
      "314          heat wave  28.717319\n",
      "486   natural disaster  28.421962\n",
      "256   first responders  26.696658\n",
      "770         wild fires  26.319873\n"
     ]
    }
   ],
   "source": [
    "from sklearn.feature_extraction.text import CountVectorizer, TfidfVectorizer\n",
    "\n",
    "def transform(text, vectorizer = TfidfVectorizer, num_feat = 1000, ngram = (1,1), feats = False, return_vect = False):\n",
    "    # create the transform\n",
    "    vectorizer = vectorizer(max_features=num_feat, ngram_range = ngram)\n",
    "    # tokenize and build vocab\n",
    "    vector = vectorizer.fit_transform(text)\n",
    "\n",
    "    # summarize encoded vector\n",
    "    if feats:\n",
    "        features = (vectorizer.get_feature_names()) \n",
    "        # Getting top ranking features \n",
    "        sums = vector.sum(axis = 0) \n",
    "        data1 = [] \n",
    "        for col, term in enumerate(features): \n",
    "            data1.append( (term, sums[0, col] )) \n",
    "        ranking = pd.DataFrame(data1, columns = ['term', 'rank']) \n",
    "        words = (ranking.sort_values('rank', ascending = False)) \n",
    "        print (\"\\n\\nWords : \\n\", words.head(10)) \n",
    "    if return_vect:\n",
    "        return pd.DataFrame(vector.toarray()), vectorizer\n",
    "    return pd.DataFrame(vector.toarray())\n",
    "    \n",
    "vector = transform(data['clean_text'], num_feat= 800, ngram=(2,2), feats = True)"
   ]
  },
  {
   "cell_type": "code",
   "execution_count": 11,
   "metadata": {},
   "outputs": [
    {
     "data": {
      "text/plain": [
       "(7613, 806)"
      ]
     },
     "execution_count": 11,
     "metadata": {},
     "output_type": "execute_result"
    }
   ],
   "source": [
    "features = data[['text_len', 'special', 'clean_text_len', 'hashtags', 'links', '@s']]\n",
    "vector_df = pd.concat([vector, features], axis = 1, sort = False)\n",
    "#vector_df = pd.concat([vector_df, vector_keyword], axis = 1, sort = False)\n",
    "vector_df.shape"
   ]
  },
  {
   "cell_type": "code",
   "execution_count": 12,
   "metadata": {},
   "outputs": [],
   "source": [
    "Train_X, Test_X, Train_Y, Test_Y = train_test_split(vector_df,data['target'],test_size=0.3)"
   ]
  },
  {
   "cell_type": "code",
   "execution_count": 13,
   "metadata": {},
   "outputs": [
    {
     "data": {
      "text/plain": [
       "(5329, 806)"
      ]
     },
     "execution_count": 13,
     "metadata": {},
     "output_type": "execute_result"
    }
   ],
   "source": [
    "Train_X.shape"
   ]
  },
  {
   "cell_type": "code",
   "execution_count": null,
   "metadata": {},
   "outputs": [],
   "source": [
    "from sklearn.model_selection import GridSearchCV\n",
    "\n",
    "# Create the parameter grid based on the results of random search \n",
    "param_grid = {\n",
    "    'max_depth': [80,90,110],\n",
    "    'max_features': [3, 4, 5],\n",
    "    'min_samples_leaf': [5, 7, 9],\n",
    "    'min_samples_split': [14, 20 ,25],\n",
    "    'n_estimators': [75, 100],\n",
    "    'learning_rate':[.15, .3]\n",
    "}\n",
    "\n",
    "# Create a based model\n",
    "rf = ensemble.GradientBoostingClassifier()\n",
    "\n",
    "# Instantiate the grid search model\n",
    "grid_search = GridSearchCV(estimator = rf, param_grid = param_grid, cv = 3, n_jobs = -1, verbose = 2)"
   ]
  },
  {
   "cell_type": "code",
   "execution_count": null,
   "metadata": {},
   "outputs": [],
   "source": [
    "# Fit the grid search to the data\n",
    "grid_search.fit(Train_X, Train_Y)\n",
    "\n",
    "print(grid_search.best_estimator_)\n",
    "\n",
    "best_grid = grid_search.best_estimator_"
   ]
  },
  {
   "cell_type": "code",
   "execution_count": null,
   "metadata": {},
   "outputs": [],
   "source": [
    "pred = best_grid.predict(Test_X)\n",
    "\n",
    "## The line / model\n",
    "print(metrics.confusion_matrix(pred, Test_Y))\n",
    "print(metrics.accuracy_score(pred, Test_Y))"
   ]
  },
  {
   "cell_type": "code",
   "execution_count": null,
   "metadata": {},
   "outputs": [],
   "source": []
  },
  {
   "cell_type": "code",
   "execution_count": null,
   "metadata": {},
   "outputs": [],
   "source": [
    "from sklearn.neural_network import MLPClassifier\n",
    "\n",
    "parameters = {'solver': ['sgd', 'adam'],\n",
    "              'alpha': 10.0 ** -np.arange(1, 2),\n",
    "              'hidden_layer_sizes':[200, 400, 600]\n",
    "             }\n",
    "\n",
    "nn = MLPClassifier()\n",
    "\n",
    "clf = GridSearchCV(estimator = nn, param_grid = parameters, cv = 3, n_jobs = -1, verbose = 2)\n",
    "\n",
    "clf.fit(Train_X, Train_Y)"
   ]
  },
  {
   "cell_type": "code",
   "execution_count": null,
   "metadata": {},
   "outputs": [],
   "source": [
    "predictions_nn = clf.predict(Test_X)\n",
    "\n",
    "# Use accuracy_score function to get the accuracy\n",
    "print(\"Accuracy Score -> \", accuracy_score(predictions_nn, Test_Y))\n",
    "print(\"F1 score Score -> \", metrics.f1_score(Test_Y, predictions_nn, average = \"macro\"))\n",
    "print(\"precision Score -> \", metrics.precision_score(Test_Y, predictions_nn))\n",
    "print(\"recall Score -> \", metrics.recall_score(Test_Y, predictions_nn)) "
   ]
  },
  {
   "cell_type": "raw",
   "metadata": {},
   "source": [
    "\n",
    "                                                                                                                                                \n",
    "\n",
    "                                                                                                                                                \n",
    "                                                                                                                                                \n",
    "                                                                                                                                                \n",
    "                                                                                                                                                \n",
    "                                                                                                                                                \n",
    "                                                                                                                                                \n",
    "                                                                                                                                                \n",
    "                                                                                                                                                \n",
    "                                                                                                                                                \n",
    "                                                                                                                                                \n",
    "                                                                                                                                                \n",
    "                                                                                                                                                \n",
    "                                                                                                                                                \n",
    "                                                                                                                                                \n",
    "                                                                                                                                                \n",
    "                                                                                                                                                \n",
    "                                                                                                                                                \n",
    "                                                                                                                                                \n",
    "                                                                                                                                                \n",
    "                                                                                                                                                \n",
    "                                                                                                                                                \n",
    "                                                                                                                                                \n",
    "                                                                                                                                                \n",
    "                                                                                                                                                \n",
    "                                                                                                                                                \n",
    "                                                                                                                                                \n",
    "                                                                                                                                                \n",
    "                                                                                                                                                \n",
    "\n"
   ]
  },
  {
   "cell_type": "code",
   "execution_count": 313,
   "metadata": {},
   "outputs": [
    {
     "name": "stdout",
     "output_type": "stream",
     "text": [
      "(7613, 1100)\n"
     ]
    }
   ],
   "source": [
    "vector = transform(data['clean_text'], vectorizer = CountVectorizer, num_feat = 1100)\n",
    "\n",
    "print(vector.shape)"
   ]
  },
  {
   "cell_type": "code",
   "execution_count": null,
   "metadata": {},
   "outputs": [],
   "source": [
    "vector_df = pd.concat([vector, features], axis = 1, sort = False)\n",
    "vector_df.shape"
   ]
  },
  {
   "cell_type": "code",
   "execution_count": null,
   "metadata": {},
   "outputs": [],
   "source": [
    "# fit the training dataset on the NB classifier\n",
    "Naive = naive_bayes.MultinomialNB()\n",
    "Naive.fit(Train_X,Train_Y)\n",
    "# predict the labels on validation dataset\n",
    "predictions_NB = Naive.predict(Test_X)\n",
    "# Use accuracy_score function to get the accuracy\n",
    "print(\"Naive Bayes Accuracy Score -> \", accuracy_score(predictions_NB, Test_Y))\n",
    "print(\"Naive Bayes F1 score Score -> \", metrics.f1_score(Test_Y, predictions_NB, average = \"macro\"))\n",
    "print(\"Naive Bayes precision Score -> \", metrics.precision_score(Test_Y, predictions_NB))\n",
    "print(\"Naive Bayes recall Score -> \", metrics.recall_score(Test_Y, predictions_NB)) "
   ]
  },
  {
   "cell_type": "code",
   "execution_count": null,
   "metadata": {},
   "outputs": [],
   "source": [
    "# Classifier - Algorithm - SVM\n",
    "# fit the training dataset on the classifier\n",
    "SVM = svm.SVC(C=1.0, kernel='linear', degree=3, gamma='auto')\n",
    "SVM.fit(Train_X,Train_Y)\n",
    "# predict the labels on validation dataset\n",
    "predictions_SVM = SVM.predict(Test_X)\n",
    "# Use accuracy_score function to get the accuracy\n",
    "print(\"Accuracy Score -> \", accuracy_score(predictions_SVM, Test_Y))\n",
    "print(\"F1 score Score -> \", metrics.f1_score(Test_Y, predictions_SVM, average = \"macro\"))\n",
    "print(\"precision Score -> \", metrics.precision_score(Test_Y, predictions_SVM))\n",
    "print(\"recall Score -> \", metrics.recall_score(Test_Y, predictions_SVM)) "
   ]
  },
  {
   "cell_type": "code",
   "execution_count": null,
   "metadata": {},
   "outputs": [],
   "source": [
    "from sklearn.ensemble import RandomForestClassifier\n",
    "\n",
    "rfc = RandomForestClassifier()\n",
    "\n",
    "rfc.fit(Train_X, Train_Y)\n",
    "\n",
    "predictions_rfc = rfc.predict(Test_X)\n",
    "\n",
    "# Use accuracy_score function to get the accuracy\n",
    "print(\"Accuracy Score -> \", accuracy_score(predictions_rfc, Test_Y))\n",
    "print(\"F1 score Score -> \", metrics.f1_score(Test_Y, predictions_rfc, average = \"macro\"))\n",
    "print(\"precision Score -> \", metrics.precision_score(Test_Y, predictions_rfc))\n",
    "print(\"recall Score -> \", metrics.recall_score(Test_Y, predictions_rfc)) "
   ]
  },
  {
   "cell_type": "code",
   "execution_count": null,
   "metadata": {},
   "outputs": [],
   "source": [
    "from sklearn.linear_model import LogisticRegression\n",
    "\n",
    "log = LogisticRegression(max_iter=3000)\n",
    "\n",
    "log.fit(Train_X, Train_Y)\n",
    "\n",
    "predictions_log = rfc.predict(Test_X)\n",
    "\n",
    "# Use accuracy_score function to get the accuracy\n",
    "print(\"Accuracy Score -> \", accuracy_score(predictions_log, Test_Y))\n",
    "print(\"F1 score Score -> \", metrics.f1_score(Test_Y, predictions_log, average = \"macro\"))\n",
    "print(\"precision Score -> \", metrics.precision_score(Test_Y, predictions_log))\n",
    "print(\"recall Score -> \", metrics.recall_score(Test_Y, predictions_log)) "
   ]
  },
  {
   "cell_type": "code",
   "execution_count": null,
   "metadata": {},
   "outputs": [],
   "source": []
  },
  {
   "cell_type": "code",
   "execution_count": null,
   "metadata": {},
   "outputs": [],
   "source": []
  },
  {
   "cell_type": "code",
   "execution_count": null,
   "metadata": {},
   "outputs": [],
   "source": []
  },
  {
   "cell_type": "code",
   "execution_count": 14,
   "metadata": {},
   "outputs": [
    {
     "name": "stderr",
     "output_type": "stream",
     "text": [
      "Using TensorFlow backend.\n"
     ]
    }
   ],
   "source": [
    "from keras.models import Sequential\n",
    "from keras.layers import Dense, Dropout"
   ]
  },
  {
   "cell_type": "code",
   "execution_count": 15,
   "metadata": {},
   "outputs": [
    {
     "data": {
      "text/plain": [
       "(7613, 5006)"
      ]
     },
     "execution_count": 15,
     "metadata": {},
     "output_type": "execute_result"
    }
   ],
   "source": [
    "vector, tf = transform(data['clean_text'], vectorizer = TfidfVectorizer, num_feat = 5000, ngram = (1,3), return_vect=True)\n",
    "\n",
    "vector_df = pd.concat([vector, features], axis = 1, sort = False)\n",
    "vector_df.shape"
   ]
  },
  {
   "cell_type": "code",
   "execution_count": 16,
   "metadata": {},
   "outputs": [],
   "source": [
    "Train_X, Test_X, Train_Y, Test_Y = train_test_split(vector_df,data['target'],test_size=0.3)"
   ]
  },
  {
   "cell_type": "code",
   "execution_count": 17,
   "metadata": {},
   "outputs": [],
   "source": [
    "# define the keras model\n",
    "model = Sequential()\n",
    "model.add(Dense(64, input_dim=Train_X.shape[1], activation='relu'))\n",
    "model.add(Dropout(0.5))\n",
    "model.add(Dense(24, activation='softmax'))\n",
    "model.add(Dropout(0.5))\n",
    "model.add(Dense(1, activation='sigmoid'))"
   ]
  },
  {
   "cell_type": "code",
   "execution_count": 18,
   "metadata": {},
   "outputs": [],
   "source": [
    "model.compile(loss='binary_crossentropy', optimizer='adam', metrics=['accuracy'])"
   ]
  },
  {
   "cell_type": "code",
   "execution_count": 19,
   "metadata": {},
   "outputs": [
    {
     "name": "stdout",
     "output_type": "stream",
     "text": [
      "Train on 5329 samples, validate on 2284 samples\n",
      "Epoch 1/60\n",
      " - 2s - loss: 0.6937 - accuracy: 0.5309\n",
      "Epoch 2/60\n",
      " - 1s - loss: 0.6892 - accuracy: 0.5682\n",
      "Epoch 3/60\n",
      " - 1s - loss: 0.6854 - accuracy: 0.5765\n",
      "Epoch 4/60\n",
      " - 1s - loss: 0.6852 - accuracy: 0.5780\n",
      "Epoch 5/60\n",
      " - 1s - loss: 0.6853 - accuracy: 0.5783\n",
      "Epoch 6/60\n",
      " - 1s - loss: 0.6839 - accuracy: 0.5778\n",
      "Epoch 7/60\n",
      " - 1s - loss: 0.6840 - accuracy: 0.5793\n",
      "Epoch 8/60\n",
      " - 1s - loss: 0.6835 - accuracy: 0.5785\n",
      "Epoch 9/60\n",
      " - 1s - loss: 0.6832 - accuracy: 0.5780\n",
      "Epoch 10/60\n",
      " - 2s - loss: 0.6826 - accuracy: 0.5783 - val_loss: 0.6857 - val_accuracy: 0.5517\n",
      "Epoch 11/60\n",
      " - 2s - loss: 0.6821 - accuracy: 0.5782\n",
      "Epoch 12/60\n",
      " - 1s - loss: 0.6819 - accuracy: 0.5783\n",
      "Epoch 13/60\n",
      " - 1s - loss: 0.6803 - accuracy: 0.5783\n",
      "Epoch 14/60\n",
      " - 1s - loss: 0.6798 - accuracy: 0.5783\n",
      "Epoch 15/60\n",
      " - 1s - loss: 0.6800 - accuracy: 0.5783\n",
      "Epoch 16/60\n",
      " - 1s - loss: 0.6791 - accuracy: 0.5783\n",
      "Epoch 17/60\n",
      " - 1s - loss: 0.6774 - accuracy: 0.5783\n",
      "Epoch 18/60\n",
      " - 1s - loss: 0.6766 - accuracy: 0.5783\n",
      "Epoch 19/60\n",
      " - 1s - loss: 0.6761 - accuracy: 0.5783\n",
      "Epoch 20/60\n",
      " - 2s - loss: 0.6734 - accuracy: 0.5783 - val_loss: 0.6748 - val_accuracy: 0.5517\n",
      "Epoch 21/60\n",
      " - 1s - loss: 0.6696 - accuracy: 0.5783\n",
      "Epoch 22/60\n",
      " - 1s - loss: 0.6677 - accuracy: 0.5783\n",
      "Epoch 23/60\n",
      " - 1s - loss: 0.6641 - accuracy: 0.5783\n",
      "Epoch 24/60\n",
      " - 1s - loss: 0.6592 - accuracy: 0.5783\n",
      "Epoch 25/60\n",
      " - 1s - loss: 0.6571 - accuracy: 0.5783\n",
      "Epoch 26/60\n",
      " - 1s - loss: 0.6512 - accuracy: 0.5842\n",
      "Epoch 27/60\n",
      " - 1s - loss: 0.6442 - accuracy: 0.6078\n",
      "Epoch 28/60\n",
      " - 1s - loss: 0.6429 - accuracy: 0.6335\n",
      "Epoch 29/60\n",
      " - 1s - loss: 0.6362 - accuracy: 0.6363\n",
      "Epoch 30/60\n",
      " - 1s - loss: 0.6300 - accuracy: 0.6461 - val_loss: 0.6278 - val_accuracy: 0.6454\n",
      "Epoch 31/60\n",
      " - 2s - loss: 0.6244 - accuracy: 0.6497\n",
      "Epoch 32/60\n",
      " - 1s - loss: 0.6184 - accuracy: 0.6649\n",
      "Epoch 33/60\n",
      " - 1s - loss: 0.6122 - accuracy: 0.6549\n",
      "Epoch 34/60\n",
      " - 1s - loss: 0.6060 - accuracy: 0.6707\n",
      "Epoch 35/60\n",
      " - 1s - loss: 0.6026 - accuracy: 0.6634\n",
      "Epoch 36/60\n",
      " - 1s - loss: 0.6038 - accuracy: 0.6630\n",
      "Epoch 37/60\n",
      " - 1s - loss: 0.5886 - accuracy: 0.6729\n",
      "Epoch 38/60\n",
      " - 1s - loss: 0.5865 - accuracy: 0.6739\n",
      "Epoch 39/60\n",
      " - 1s - loss: 0.5776 - accuracy: 0.6802\n",
      "Epoch 40/60\n",
      " - 2s - loss: 0.5728 - accuracy: 0.6771 - val_loss: 0.5825 - val_accuracy: 0.7478\n",
      "Epoch 41/60\n",
      " - 1s - loss: 0.5676 - accuracy: 0.6823\n",
      "Epoch 42/60\n",
      " - 2s - loss: 0.5550 - accuracy: 0.6879\n",
      "Epoch 43/60\n",
      " - 2s - loss: 0.5523 - accuracy: 0.6861\n",
      "Epoch 44/60\n",
      " - 2s - loss: 0.5439 - accuracy: 0.7035\n",
      "Epoch 45/60\n",
      " - 2s - loss: 0.5424 - accuracy: 0.6906\n",
      "Epoch 46/60\n",
      " - 1s - loss: 0.5442 - accuracy: 0.6906\n",
      "Epoch 47/60\n",
      " - 1s - loss: 0.5353 - accuracy: 0.6951\n",
      "Epoch 48/60\n",
      " - 1s - loss: 0.5251 - accuracy: 0.6999\n",
      "Epoch 49/60\n",
      " - 1s - loss: 0.5265 - accuracy: 0.7031\n",
      "Epoch 50/60\n",
      " - 2s - loss: 0.5226 - accuracy: 0.7287 - val_loss: 0.5496 - val_accuracy: 0.7758\n",
      "Epoch 51/60\n",
      " - 2s - loss: 0.5211 - accuracy: 0.7399\n",
      "Epoch 52/60\n",
      " - 1s - loss: 0.5165 - accuracy: 0.7401\n",
      "Epoch 53/60\n",
      " - 1s - loss: 0.5146 - accuracy: 0.7512\n",
      "Epoch 54/60\n",
      " - 1s - loss: 0.5009 - accuracy: 0.7636\n",
      "Epoch 55/60\n",
      " - 2s - loss: 0.5005 - accuracy: 0.7664\n",
      "Epoch 56/60\n",
      " - 2s - loss: 0.5049 - accuracy: 0.7598\n",
      "Epoch 57/60\n",
      " - 2s - loss: 0.5007 - accuracy: 0.7609\n",
      "Epoch 58/60\n",
      " - 1s - loss: 0.4849 - accuracy: 0.7795\n",
      "Epoch 59/60\n",
      " - 1s - loss: 0.4917 - accuracy: 0.7799\n",
      "Epoch 60/60\n",
      " - 2s - loss: 0.4898 - accuracy: 0.7795 - val_loss: 0.5235 - val_accuracy: 0.7947\n"
     ]
    },
    {
     "data": {
      "text/plain": [
       "<keras.callbacks.callbacks.History at 0x234854f3808>"
      ]
     },
     "execution_count": 19,
     "metadata": {},
     "output_type": "execute_result"
    }
   ],
   "source": [
    "model.fit(Train_X, Train_Y, validation_data=(Test_X,Test_Y), epochs=60, batch_size=400, verbose = 2, validation_freq = 10)"
   ]
  },
  {
   "cell_type": "code",
   "execution_count": 20,
   "metadata": {},
   "outputs": [
    {
     "name": "stdout",
     "output_type": "stream",
     "text": [
      "2284/2284 [==============================] - 0s 218us/step\n",
      "Accuracy: 79.47\n"
     ]
    }
   ],
   "source": [
    "_, accuracy = model.evaluate(Test_X, Test_Y)\n",
    "print('Accuracy: %.2f' % (accuracy*100))"
   ]
  },
  {
   "cell_type": "code",
   "execution_count": 21,
   "metadata": {},
   "outputs": [],
   "source": [
    "predictions = model.predict_classes(Test_X)"
   ]
  },
  {
   "cell_type": "code",
   "execution_count": 22,
   "metadata": {},
   "outputs": [
    {
     "name": "stdout",
     "output_type": "stream",
     "text": [
      "Accuracy Score ->  0.7946584938704028\n",
      "F1 score Score ->  0.7903614028694683\n",
      "precision Score ->  0.797427652733119\n",
      "recall Score ->  0.7265625\n"
     ]
    }
   ],
   "source": [
    "# Use accuracy_score function to get the accuracy\n",
    "print(\"Accuracy Score -> \", accuracy_score(predictions, Test_Y))\n",
    "print(\"F1 score Score -> \", metrics.f1_score(Test_Y, predictions, average = \"macro\"))\n",
    "print(\"precision Score -> \", metrics.precision_score(Test_Y, predictions))\n",
    "print(\"recall Score -> \", metrics.recall_score(Test_Y, predictions)) "
   ]
  },
  {
   "cell_type": "code",
   "execution_count": 41,
   "metadata": {},
   "outputs": [],
   "source": [
    "from xgboost import XGBClassifier"
   ]
  },
  {
   "cell_type": "code",
   "execution_count": 42,
   "metadata": {},
   "outputs": [
    {
     "name": "stdout",
     "output_type": "stream",
     "text": [
      "XGBClassifier(base_score=0.5, booster=None, colsample_bylevel=1,\n",
      "              colsample_bynode=1, colsample_bytree=1, gamma=0, gpu_id=-1,\n",
      "              importance_type='gain', interaction_constraints=None,\n",
      "              learning_rate=0.300000012, max_delta_step=0, max_depth=6,\n",
      "              min_child_weight=1, missing=nan, monotone_constraints=None,\n",
      "              n_estimators=100, n_jobs=0, num_parallel_tree=1,\n",
      "              objective='binary:logistic', random_state=0, reg_alpha=0,\n",
      "              reg_lambda=1, scale_pos_weight=1, subsample=1, tree_method=None,\n",
      "              validate_parameters=False, verbosity=None)\n",
      "Accuracy: 75.79%\n"
     ]
    }
   ],
   "source": [
    "# fit model no training data\n",
    "model = XGBClassifier()\n",
    "model.fit(Train_X, Train_Y)\n",
    "\n",
    "print(model)\n",
    "\n",
    "# make predictions for test data\n",
    "y_pred = model.predict(Test_X)\n",
    "predictions_boost = [round(value) for value in y_pred]\n",
    "\n",
    "# evaluate predictions\n",
    "accuracy = accuracy_score(Test_Y, predictions_boost)\n",
    "print(\"Accuracy: %.2f%%\" % (accuracy * 100.0))"
   ]
  },
  {
   "cell_type": "code",
   "execution_count": null,
   "metadata": {},
   "outputs": [],
   "source": []
  },
  {
   "cell_type": "code",
   "execution_count": null,
   "metadata": {},
   "outputs": [],
   "source": []
  },
  {
   "cell_type": "code",
   "execution_count": null,
   "metadata": {},
   "outputs": [],
   "source": []
  },
  {
   "cell_type": "code",
   "execution_count": null,
   "metadata": {},
   "outputs": [],
   "source": []
  },
  {
   "cell_type": "code",
   "execution_count": 23,
   "metadata": {},
   "outputs": [
    {
     "name": "stdout",
     "output_type": "stream",
     "text": [
      "<class 'pandas.core.frame.DataFrame'>\n",
      "RangeIndex: 3263 entries, 0 to 3262\n",
      "Data columns (total 11 columns):\n",
      " #   Column          Non-Null Count  Dtype \n",
      "---  ------          --------------  ----- \n",
      " 0   id              3263 non-null   int64 \n",
      " 1   keyword         3237 non-null   object\n",
      " 2   location        2158 non-null   object\n",
      " 3   text            3263 non-null   object\n",
      " 4   text_len        3263 non-null   int64 \n",
      " 5   special         3263 non-null   int64 \n",
      " 6   clean_text      3263 non-null   object\n",
      " 7   clean_text_len  3263 non-null   int64 \n",
      " 8   hashtags        3263 non-null   int64 \n",
      " 9   links           3263 non-null   int64 \n",
      " 10  @s              3263 non-null   int64 \n",
      "dtypes: int64(7), object(4)\n",
      "memory usage: 280.5+ KB\n"
     ]
    }
   ],
   "source": [
    "test_data = pd.read_csv(\"test.csv\")\n",
    "test_data = transform_data(test_data)\n",
    "test_data.info()"
   ]
  },
  {
   "cell_type": "code",
   "execution_count": 28,
   "metadata": {},
   "outputs": [],
   "source": [
    "features_test = test_data[['text_len', 'special', 'clean_text_len', 'hashtags', 'links', '@s']]\n",
    "vector_df_stuff =  pd.DataFrame((tf.transform(test_data['clean_text'])).toarray())\n",
    "vector_df_stuff = pd.concat([vector_df_stuff, features_test], axis = 1, sort = False)"
   ]
  },
  {
   "cell_type": "code",
   "execution_count": 29,
   "metadata": {},
   "outputs": [],
   "source": [
    "predictions_test = model.predict_classes(vector_df_stuff)"
   ]
  },
  {
   "cell_type": "code",
   "execution_count": 32,
   "metadata": {},
   "outputs": [
    {
     "data": {
      "text/html": [
       "<div>\n",
       "<style scoped>\n",
       "    .dataframe tbody tr th:only-of-type {\n",
       "        vertical-align: middle;\n",
       "    }\n",
       "\n",
       "    .dataframe tbody tr th {\n",
       "        vertical-align: top;\n",
       "    }\n",
       "\n",
       "    .dataframe thead th {\n",
       "        text-align: right;\n",
       "    }\n",
       "</style>\n",
       "<table border=\"1\" class=\"dataframe\">\n",
       "  <thead>\n",
       "    <tr style=\"text-align: right;\">\n",
       "      <th></th>\n",
       "      <th>0</th>\n",
       "    </tr>\n",
       "  </thead>\n",
       "  <tbody>\n",
       "    <tr>\n",
       "      <th>count</th>\n",
       "      <td>3263.000000</td>\n",
       "    </tr>\n",
       "    <tr>\n",
       "      <th>mean</th>\n",
       "      <td>0.372663</td>\n",
       "    </tr>\n",
       "    <tr>\n",
       "      <th>std</th>\n",
       "      <td>0.483588</td>\n",
       "    </tr>\n",
       "    <tr>\n",
       "      <th>min</th>\n",
       "      <td>0.000000</td>\n",
       "    </tr>\n",
       "    <tr>\n",
       "      <th>25%</th>\n",
       "      <td>0.000000</td>\n",
       "    </tr>\n",
       "    <tr>\n",
       "      <th>50%</th>\n",
       "      <td>0.000000</td>\n",
       "    </tr>\n",
       "    <tr>\n",
       "      <th>75%</th>\n",
       "      <td>1.000000</td>\n",
       "    </tr>\n",
       "    <tr>\n",
       "      <th>max</th>\n",
       "      <td>1.000000</td>\n",
       "    </tr>\n",
       "  </tbody>\n",
       "</table>\n",
       "</div>"
      ],
      "text/plain": [
       "                 0\n",
       "count  3263.000000\n",
       "mean      0.372663\n",
       "std       0.483588\n",
       "min       0.000000\n",
       "25%       0.000000\n",
       "50%       0.000000\n",
       "75%       1.000000\n",
       "max       1.000000"
      ]
     },
     "execution_count": 32,
     "metadata": {},
     "output_type": "execute_result"
    }
   ],
   "source": [
    "pd.DataFrame(predictions_test).describe()"
   ]
  },
  {
   "cell_type": "code",
   "execution_count": 37,
   "metadata": {},
   "outputs": [
    {
     "data": {
      "text/plain": [
       "0       1\n",
       "1       1\n",
       "2       1\n",
       "3       1\n",
       "4       1\n",
       "       ..\n",
       "3258    1\n",
       "3259    1\n",
       "3260    1\n",
       "3261    1\n",
       "3262    1\n",
       "Name: target, Length: 3263, dtype: int64"
      ]
     },
     "execution_count": 37,
     "metadata": {},
     "output_type": "execute_result"
    }
   ],
   "source": [
    "sub_dict = {'id':list(test_data['id']), 'target':predictions_test.flatten().tolist()}\n",
    "sub = pd.DataFrame(sub_dict)\n",
    "sub['target']"
   ]
  },
  {
   "cell_type": "code",
   "execution_count": 39,
   "metadata": {},
   "outputs": [],
   "source": [
    "sub.to_csv('submission.csv', index=False)"
   ]
  },
  {
   "cell_type": "code",
   "execution_count": null,
   "metadata": {},
   "outputs": [],
   "source": []
  }
 ],
 "metadata": {
  "kernelspec": {
   "display_name": "Python 3",
   "language": "python",
   "name": "python3"
  },
  "language_info": {
   "codemirror_mode": {
    "name": "ipython",
    "version": 3
   },
   "file_extension": ".py",
   "mimetype": "text/x-python",
   "name": "python",
   "nbconvert_exporter": "python",
   "pygments_lexer": "ipython3",
   "version": "3.7.6"
  }
 },
 "nbformat": 4,
 "nbformat_minor": 4
}
